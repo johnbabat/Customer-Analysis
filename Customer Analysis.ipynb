{
 "cells": [
  {
   "cell_type": "markdown",
   "metadata": {},
   "source": [
    "# Imports"
   ]
  },
  {
   "cell_type": "code",
   "execution_count": 2,
   "metadata": {},
   "outputs": [],
   "source": [
    "import pandas as pd\n",
    "import  numpy as np\n",
    "from sklearn.preprocessing import StandardScaler\n",
    "from sklearn.decomposition import PCA\n",
    "from sklearn.cluster import KMeans\n",
    "import matplotlib.pyplot as plt\n",
    "%matplotlib inline"
   ]
  },
  {
   "cell_type": "markdown",
   "metadata": {},
   "source": [
    "# Load dataset"
   ]
  },
  {
   "cell_type": "code",
   "execution_count": 3,
   "metadata": {},
   "outputs": [],
   "source": [
    "data = pd.read_csv('week3_challenge.csv')"
   ]
  },
  {
   "cell_type": "code",
   "execution_count": null,
   "metadata": {},
   "outputs": [],
   "source": [
    "data.head()\n",
    "#Data head not shown in this notebook because data is confidential"
   ]
  },
  {
   "cell_type": "code",
   "execution_count": 5,
   "metadata": {},
   "outputs": [],
   "source": [
    "data1 = data.dropna(thresh = 0.7*len(data),axis = 1)"
   ]
  },
  {
   "cell_type": "code",
   "execution_count": 110,
   "metadata": {},
   "outputs": [
    {
     "data": {
      "text/plain": [
       "18"
      ]
     },
     "execution_count": 110,
     "metadata": {},
     "output_type": "execute_result"
    }
   ],
   "source": [
    "dropped_columns = list(data.columns.difference(data1.columns))\n",
    "len(dropped_columns)"
   ]
  },
  {
   "cell_type": "code",
   "execution_count": null,
   "metadata": {},
   "outputs": [],
   "source": [
    "data1.head()\n",
    "#Data head not shown in this notebook because data is confidential"
   ]
  },
  {
   "cell_type": "code",
   "execution_count": 17,
   "metadata": {},
   "outputs": [
    {
     "data": {
      "text/plain": [
       "Unnamed: 0                                      int64\n",
       "createdAt_Month                                 int64\n",
       "Reason                                         object\n",
       "application_id                                 object\n",
       "SystemCustomerID                                int64\n",
       "SystemLoanID                                    int64\n",
       "income_source                                  object\n",
       "income_verified                                  bool\n",
       "next_loan_number                                int64\n",
       "country                                        object\n",
       "DecisionFlag                                   object\n",
       "Product                                        object\n",
       "Income                                        float64\n",
       "ID                                             object\n",
       "ApplicationID                                  object\n",
       "__v                                           float64\n",
       "CompletedAt                                    object\n",
       "demofeatures_net_income_band                  float64\n",
       "demofeatures_appweek                          float64\n",
       "demofeatures_time_at_employer_mths             object\n",
       "demofeatures_age_at_application_yrs           float64\n",
       "demofeatures_device                            object\n",
       "demofeatures_loan_purpose                      object\n",
       "demofeatures_time_curr_address                 object\n",
       "demofeatures_residence_state                   object\n",
       "demofeatures_bank_name                         object\n",
       "demofeatures_level_of_education                object\n",
       "demofeatures_marital_status                    object\n",
       "demofeatures_residential_status                object\n",
       "demofeatures_employment_status_clients         object\n",
       "                                               ...   \n",
       "callFeatures_dur_calls_2_mnth_miss            float64\n",
       "callFeatures_dur_calls_3_mnth_miss            float64\n",
       "callFeatures_vol_calls_1_mnth_miss            float64\n",
       "callFeatures_vol_calls_2_mnth_miss            float64\n",
       "callFeatures_vol_calls_3_mnth_miss            float64\n",
       "callFeatures_dur_calls_miss                   float64\n",
       "callFeatures_dur_calls_contacts_miss          float64\n",
       "callFeatures_ratio_contacts_miss              float64\n",
       "callFeatures_no_distinct_call_numbers_miss    float64\n",
       "callFeatures_no_calls_over_zero_secs_miss     float64\n",
       "callFeatures_no_calls_miss                    float64\n",
       "callFeatures_avg_dur_per_day_out              float64\n",
       "callFeatures_avg_calls_per_day_out            float64\n",
       "callFeatures_distinct_contacts_1_mnth_out     float64\n",
       "callFeatures_distinct_contacts_2_mnth_out     float64\n",
       "callFeatures_distinct_contacts_3_mnth_out     float64\n",
       "callFeatures_dur_calls_1_mnth_out             float64\n",
       "callFeatures_dur_calls_2_mnth_out             float64\n",
       "callFeatures_dur_calls_3_mnth_out             float64\n",
       "callFeatures_vol_calls_1_mnth_out             float64\n",
       "callFeatures_vol_calls_2_mnth_out             float64\n",
       "callFeatures_vol_calls_3_mnth_out             float64\n",
       "callFeatures_dur_calls_out                    float64\n",
       "callFeatures_dur_calls_contacts_out           float64\n",
       "callFeatures_ratio_contacts_out               float64\n",
       "callFeatures_no_distinct_call_numbers_out     float64\n",
       "callFeatures_no_calls_over_zero_secs_out      float64\n",
       "callFeatures_no_calls_out                     float64\n",
       "predictedIncome                               float64\n",
       "installationId                                 object\n",
       "Length: 272, dtype: object"
      ]
     },
     "execution_count": 17,
     "metadata": {},
     "output_type": "execute_result"
    }
   ],
   "source": [
    "data1.dtypes"
   ]
  },
  {
   "cell_type": "code",
   "execution_count": 55,
   "metadata": {},
   "outputs": [],
   "source": [
    "data2 = data1.select_dtypes(include = ['int64', 'float64'])"
   ]
  },
  {
   "cell_type": "code",
   "execution_count": null,
   "metadata": {},
   "outputs": [],
   "source": [
    "data2.head()\n",
    "#Data head not shown in this notebook because data is confidential"
   ]
  },
  {
   "cell_type": "code",
   "execution_count": 114,
   "metadata": {},
   "outputs": [],
   "source": [
    "data2 = data2.drop(['Unnamed: 0'], axis=1)"
   ]
  },
  {
   "cell_type": "code",
   "execution_count": 115,
   "metadata": {},
   "outputs": [
    {
     "data": {
      "text/plain": [
       "248"
      ]
     },
     "execution_count": 115,
     "metadata": {},
     "output_type": "execute_result"
    }
   ],
   "source": [
    "remaining_columns = len(data2.columns)\n",
    "remaining_columns"
   ]
  },
  {
   "cell_type": "code",
   "execution_count": 57,
   "metadata": {},
   "outputs": [],
   "source": [
    "df = data2.fillna(0)"
   ]
  },
  {
   "cell_type": "code",
   "execution_count": 58,
   "metadata": {},
   "outputs": [
    {
     "data": {
      "text/plain": [
       "False"
      ]
     },
     "execution_count": 58,
     "metadata": {},
     "output_type": "execute_result"
    }
   ],
   "source": [
    "df.isnull().values.any()"
   ]
  },
  {
   "cell_type": "code",
   "execution_count": 103,
   "metadata": {},
   "outputs": [
    {
     "data": {
      "text/plain": [
       "11993"
      ]
     },
     "execution_count": 103,
     "metadata": {},
     "output_type": "execute_result"
    }
   ],
   "source": [
    "len(df)"
   ]
  },
  {
   "cell_type": "markdown",
   "metadata": {},
   "source": [
    "# Scaling the data"
   ]
  },
  {
   "cell_type": "code",
   "execution_count": 74,
   "metadata": {},
   "outputs": [],
   "source": [
    "# get features\n",
    "features = list(df)\n",
    "x = df.loc[:, features].values"
   ]
  },
  {
   "cell_type": "code",
   "execution_count": 76,
   "metadata": {},
   "outputs": [],
   "source": [
    "# get target variables\n",
    "y = df.loc[:,['predictedIncome']].values"
   ]
  },
  {
   "cell_type": "code",
   "execution_count": 78,
   "metadata": {},
   "outputs": [],
   "source": [
    "# standardize features\n",
    "x = StandardScaler().fit_transform(x)"
   ]
  },
  {
   "cell_type": "markdown",
   "metadata": {},
   "source": [
    "# PCA Projection"
   ]
  },
  {
   "cell_type": "code",
   "execution_count": 81,
   "metadata": {},
   "outputs": [],
   "source": [
    "# create pca\n",
    "pca = PCA(n_components=5)"
   ]
  },
  {
   "cell_type": "code",
   "execution_count": 82,
   "metadata": {},
   "outputs": [],
   "source": [
    "# fit the data to the model\n",
    "principalComponents = pca.fit_transform(x)"
   ]
  },
  {
   "cell_type": "code",
   "execution_count": 101,
   "metadata": {},
   "outputs": [
    {
     "data": {
      "text/plain": [
       "array([[ 4.22097372, -2.27027382,  0.75739001, -1.59926904,  4.2340764 ],\n",
       "       [13.46490735, -3.68577513, -2.14244662, -0.88995448, -0.21966551],\n",
       "       [ 5.90034119, -2.36806079,  0.09352481,  0.48479327,  0.24120983],\n",
       "       ...,\n",
       "       [-2.45714955, -0.06481825, -0.25267048,  1.26737218, -0.46362186],\n",
       "       [ 2.40897618, -1.60935472, -0.239542  ,  0.49176687, -1.52314131],\n",
       "       [-1.1674063 , -0.0961666 ,  0.59432427,  1.64451921, -0.2591927 ]])"
      ]
     },
     "execution_count": 101,
     "metadata": {},
     "output_type": "execute_result"
    }
   ],
   "source": [
    "principalComponents"
   ]
  },
  {
   "cell_type": "code",
   "execution_count": 85,
   "metadata": {},
   "outputs": [],
   "source": [
    "# create dataframe containing principal components\n",
    "principalDf = pd.DataFrame(data = principalComponents, columns = ['principal component 1', 'principal component 2', 'principal component 3', 'principal component 4', 'principal component 5'])"
   ]
  },
  {
   "cell_type": "code",
   "execution_count": 86,
   "metadata": {},
   "outputs": [
    {
     "data": {
      "text/html": [
       "<div>\n",
       "<style scoped>\n",
       "    .dataframe tbody tr th:only-of-type {\n",
       "        vertical-align: middle;\n",
       "    }\n",
       "\n",
       "    .dataframe tbody tr th {\n",
       "        vertical-align: top;\n",
       "    }\n",
       "\n",
       "    .dataframe thead th {\n",
       "        text-align: right;\n",
       "    }\n",
       "</style>\n",
       "<table border=\"1\" class=\"dataframe\">\n",
       "  <thead>\n",
       "    <tr style=\"text-align: right;\">\n",
       "      <th></th>\n",
       "      <th>principal component 1</th>\n",
       "      <th>principal component 2</th>\n",
       "      <th>principal component 3</th>\n",
       "      <th>principal component 4</th>\n",
       "      <th>principal component 5</th>\n",
       "    </tr>\n",
       "  </thead>\n",
       "  <tbody>\n",
       "    <tr>\n",
       "      <th>0</th>\n",
       "      <td>4.220974</td>\n",
       "      <td>-2.270274</td>\n",
       "      <td>0.757390</td>\n",
       "      <td>-1.599269</td>\n",
       "      <td>4.234076</td>\n",
       "    </tr>\n",
       "    <tr>\n",
       "      <th>1</th>\n",
       "      <td>13.464907</td>\n",
       "      <td>-3.685775</td>\n",
       "      <td>-2.142447</td>\n",
       "      <td>-0.889954</td>\n",
       "      <td>-0.219666</td>\n",
       "    </tr>\n",
       "    <tr>\n",
       "      <th>2</th>\n",
       "      <td>5.900341</td>\n",
       "      <td>-2.368061</td>\n",
       "      <td>0.093525</td>\n",
       "      <td>0.484793</td>\n",
       "      <td>0.241210</td>\n",
       "    </tr>\n",
       "    <tr>\n",
       "      <th>3</th>\n",
       "      <td>-1.884293</td>\n",
       "      <td>1.370643</td>\n",
       "      <td>-0.221311</td>\n",
       "      <td>3.305450</td>\n",
       "      <td>0.302539</td>\n",
       "    </tr>\n",
       "    <tr>\n",
       "      <th>4</th>\n",
       "      <td>2.631881</td>\n",
       "      <td>1.782549</td>\n",
       "      <td>0.575727</td>\n",
       "      <td>-2.894215</td>\n",
       "      <td>-0.847431</td>\n",
       "    </tr>\n",
       "  </tbody>\n",
       "</table>\n",
       "</div>"
      ],
      "text/plain": [
       "   principal component 1  principal component 2  principal component 3  \\\n",
       "0               4.220974              -2.270274               0.757390   \n",
       "1              13.464907              -3.685775              -2.142447   \n",
       "2               5.900341              -2.368061               0.093525   \n",
       "3              -1.884293               1.370643              -0.221311   \n",
       "4               2.631881               1.782549               0.575727   \n",
       "\n",
       "   principal component 4  principal component 5  \n",
       "0              -1.599269               4.234076  \n",
       "1              -0.889954              -0.219666  \n",
       "2               0.484793               0.241210  \n",
       "3               3.305450               0.302539  \n",
       "4              -2.894215              -0.847431  "
      ]
     },
     "execution_count": 86,
     "metadata": {},
     "output_type": "execute_result"
    }
   ],
   "source": [
    "# display principal components\n",
    "principalDf.head()"
   ]
  },
  {
   "cell_type": "code",
   "execution_count": 87,
   "metadata": {},
   "outputs": [
    {
     "data": {
      "text/html": [
       "<div>\n",
       "<style scoped>\n",
       "    .dataframe tbody tr th:only-of-type {\n",
       "        vertical-align: middle;\n",
       "    }\n",
       "\n",
       "    .dataframe tbody tr th {\n",
       "        vertical-align: top;\n",
       "    }\n",
       "\n",
       "    .dataframe thead th {\n",
       "        text-align: right;\n",
       "    }\n",
       "</style>\n",
       "<table border=\"1\" class=\"dataframe\">\n",
       "  <thead>\n",
       "    <tr style=\"text-align: right;\">\n",
       "      <th></th>\n",
       "      <th>principal component 1</th>\n",
       "      <th>principal component 2</th>\n",
       "      <th>principal component 3</th>\n",
       "      <th>principal component 4</th>\n",
       "      <th>principal component 5</th>\n",
       "      <th>predictedIncome</th>\n",
       "    </tr>\n",
       "  </thead>\n",
       "  <tbody>\n",
       "    <tr>\n",
       "      <th>0</th>\n",
       "      <td>4.220974</td>\n",
       "      <td>-2.270274</td>\n",
       "      <td>0.757390</td>\n",
       "      <td>-1.599269</td>\n",
       "      <td>4.234076</td>\n",
       "      <td>105872.674499</td>\n",
       "    </tr>\n",
       "    <tr>\n",
       "      <th>1</th>\n",
       "      <td>13.464907</td>\n",
       "      <td>-3.685775</td>\n",
       "      <td>-2.142447</td>\n",
       "      <td>-0.889954</td>\n",
       "      <td>-0.219666</td>\n",
       "      <td>34421.220891</td>\n",
       "    </tr>\n",
       "    <tr>\n",
       "      <th>2</th>\n",
       "      <td>5.900341</td>\n",
       "      <td>-2.368061</td>\n",
       "      <td>0.093525</td>\n",
       "      <td>0.484793</td>\n",
       "      <td>0.241210</td>\n",
       "      <td>14447.944277</td>\n",
       "    </tr>\n",
       "    <tr>\n",
       "      <th>3</th>\n",
       "      <td>-1.884293</td>\n",
       "      <td>1.370643</td>\n",
       "      <td>-0.221311</td>\n",
       "      <td>3.305450</td>\n",
       "      <td>0.302539</td>\n",
       "      <td>52952.581832</td>\n",
       "    </tr>\n",
       "    <tr>\n",
       "      <th>4</th>\n",
       "      <td>2.631881</td>\n",
       "      <td>1.782549</td>\n",
       "      <td>0.575727</td>\n",
       "      <td>-2.894215</td>\n",
       "      <td>-0.847431</td>\n",
       "      <td>31577.275467</td>\n",
       "    </tr>\n",
       "  </tbody>\n",
       "</table>\n",
       "</div>"
      ],
      "text/plain": [
       "   principal component 1  principal component 2  principal component 3  \\\n",
       "0               4.220974              -2.270274               0.757390   \n",
       "1              13.464907              -3.685775              -2.142447   \n",
       "2               5.900341              -2.368061               0.093525   \n",
       "3              -1.884293               1.370643              -0.221311   \n",
       "4               2.631881               1.782549               0.575727   \n",
       "\n",
       "   principal component 4  principal component 5  predictedIncome  \n",
       "0              -1.599269               4.234076    105872.674499  \n",
       "1              -0.889954              -0.219666     34421.220891  \n",
       "2               0.484793               0.241210     14447.944277  \n",
       "3               3.305450               0.302539     52952.581832  \n",
       "4              -2.894215              -0.847431     31577.275467  "
      ]
     },
     "execution_count": 87,
     "metadata": {},
     "output_type": "execute_result"
    }
   ],
   "source": [
    "finalDf = pd.concat([principalDf, df[['predictedIncome']]], axis = 1)\n",
    "finalDf.head()"
   ]
  },
  {
   "cell_type": "markdown",
   "metadata": {},
   "source": [
    "# Explained Variance"
   ]
  },
  {
   "cell_type": "code",
   "execution_count": 88,
   "metadata": {},
   "outputs": [
    {
     "data": {
      "text/plain": [
       "array([0.3510669 , 0.09311398, 0.03786533, 0.03341305, 0.02734513])"
      ]
     },
     "execution_count": 88,
     "metadata": {},
     "output_type": "execute_result"
    }
   ],
   "source": [
    "pca.explained_variance_ratio_"
   ]
  },
  {
   "cell_type": "code",
   "execution_count": 89,
   "metadata": {},
   "outputs": [
    {
     "data": {
      "text/plain": [
       "0.5428043836101796"
      ]
     },
     "execution_count": 89,
     "metadata": {},
     "output_type": "execute_result"
    }
   ],
   "source": [
    "pca.explained_variance_ratio_.sum()"
   ]
  },
  {
   "cell_type": "markdown",
   "metadata": {},
   "source": [
    "# K-means Clustering"
   ]
  },
  {
   "cell_type": "code",
   "execution_count": 90,
   "metadata": {},
   "outputs": [],
   "source": [
    "# declare a Kmeans instance with 3 classes\n",
    "model = KMeans(n_clusters=3)"
   ]
  },
  {
   "cell_type": "code",
   "execution_count": 92,
   "metadata": {},
   "outputs": [
    {
     "data": {
      "text/plain": [
       "KMeans(algorithm='auto', copy_x=True, init='k-means++', max_iter=300,\n",
       "    n_clusters=3, n_init=10, n_jobs=None, precompute_distances='auto',\n",
       "    random_state=None, tol=0.0001, verbose=0)"
      ]
     },
     "execution_count": 92,
     "metadata": {},
     "output_type": "execute_result"
    }
   ],
   "source": [
    "# fit data \n",
    "model.fit(finalDf)"
   ]
  },
  {
   "cell_type": "code",
   "execution_count": 98,
   "metadata": {},
   "outputs": [],
   "source": [
    "# get clusters\n",
    "clusters = model.predict(finalDf)"
   ]
  },
  {
   "cell_type": "code",
   "execution_count": 99,
   "metadata": {},
   "outputs": [
    {
     "name": "stdout",
     "output_type": "stream",
     "text": [
      "[2 1 1 ... 0 1 1]\n"
     ]
    }
   ],
   "source": [
    "print(clusters)"
   ]
  },
  {
   "cell_type": "code",
   "execution_count": 102,
   "metadata": {},
   "outputs": [
    {
     "data": {
      "image/png": "[encoded data removed]",
      "text/plain": [
       "<Figure size 432x288 with 1 Axes>"
      ]
     },
     "metadata": {
      "needs_background": "light"
     },
     "output_type": "display_data"
    }
   ],
   "source": [
    "# plot based on cluster\n",
    "for i in range(len(clusters)):\n",
    "    if clusters[i] == 0:\n",
    "        c1 = plt.scatter(principalComponents[i, 0], principalComponents[i, 1], c='r', marker='+')\n",
    "    elif clusters[i] == 1:\n",
    "        c2 = plt.scatter(principalComponents[i, 0], principalComponents[i, 1], c='g', marker='o')\n",
    "    elif clusters[i] == 2:\n",
    "        c3 = plt.scatter(principalComponents[i, 0], principalComponents[i, 1], c='b', marker='*')\n",
    "\n",
    "plt.legend([c1, c2, c3], ['Cluster 1', 'Cluster 2', 'Cluster 3'])\n",
    "plt.title('There are 3 cluster in our data but we can only plot in 2 dimensions')\n",
    "plt.show()"
   ]
  },
  {
   "cell_type": "markdown",
   "metadata": {},
   "source": [
    "# Reconnecting clusters to original dataframe"
   ]
  },
  {
   "cell_type": "code",
   "execution_count": 105,
   "metadata": {},
   "outputs": [],
   "source": [
    "df['clusters'] = clusters"
   ]
  },
  {
   "cell_type": "code",
   "execution_count": null,
   "metadata": {},
   "outputs": [],
   "source": [
    "df.head()\n",
    "#Data head not shown in this notebook because data is confidential"
   ]
  },
  {
   "cell_type": "code",
   "execution_count": 109,
   "metadata": {},
   "outputs": [
    {
     "name": "stdout",
     "output_type": "stream",
     "text": [
      "clusters\n",
      "0     66319.417706\n",
      "1     29134.498280\n",
      "2    126003.314855\n",
      "Name: Income, dtype: float64/nclusters\n",
      "0     70543.324367\n",
      "1     35141.328442\n",
      "2    113024.192490\n",
      "Name: Income, dtype: float64\n"
     ]
    }
   ],
   "source": [
    "mean_income = df.groupby('clusters')['Income'].mean()\n",
    "std_income=df.groupby('clusters')['Income'].std()\n",
    "print(mean_income,std_income,sep='/n')"
   ]
  },
  {
   "cell_type": "code",
   "execution_count": null,
   "metadata": {},
   "outputs": [],
   "source": []
  }
 ],
 "metadata": {
  "kernelspec": {
   "display_name": "Python 3",
   "language": "python",
   "name": "python3"
  },
  "language_info": {
   "codemirror_mode": {
    "name": "ipython",
    "version": 3
   },
   "file_extension": ".py",
   "mimetype": "text/x-python",
   "name": "python",
   "nbconvert_exporter": "python",
   "pygments_lexer": "ipython3",
   "version": "3.6.7"
  }
 },
 "nbformat": 4,
 "nbformat_minor": 2
}
